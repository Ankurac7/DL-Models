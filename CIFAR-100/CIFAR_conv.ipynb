{
 "cells": [
  {
   "cell_type": "code",
   "execution_count": 1,
   "metadata": {},
   "outputs": [],
   "source": [
    "from keras.models import Sequential\n",
    "from keras.layers import Conv2D, MaxPooling2D, Flatten, Dense, Dropout\n",
    "from keras.utils import to_categorical\n",
    "from keras.datasets import cifar100\n",
    "from keras.optimizers import Adam"
   ]
  },
  {
   "cell_type": "code",
   "execution_count": 2,
   "metadata": {},
   "outputs": [],
   "source": [
    "(x_train, y_train), (x_test, y_test) = cifar100.load_data()\n",
    "x_train = x_train / 255.0\n",
    "x_test = x_test / 255.0"
   ]
  },
  {
   "cell_type": "code",
   "execution_count": 3,
   "metadata": {},
   "outputs": [
    {
     "name": "stdout",
     "output_type": "stream",
     "text": [
      "(50000, 32, 32, 3) (50000, 1)\n",
      "(10000, 32, 32, 3) (10000, 1)\n"
     ]
    }
   ],
   "source": [
    "print(x_train.shape,y_train.shape)\n",
    "print(x_test.shape,y_test.shape)"
   ]
  },
  {
   "cell_type": "code",
   "execution_count": 4,
   "metadata": {},
   "outputs": [],
   "source": [
    "y_train = to_categorical(y_train, 100)\n",
    "y_test = to_categorical(y_test, 100)"
   ]
  },
  {
   "cell_type": "code",
   "execution_count": 5,
   "metadata": {},
   "outputs": [
    {
     "name": "stdout",
     "output_type": "stream",
     "text": [
      "Model: \"sequential\"\n",
      "_________________________________________________________________\n",
      " Layer (type)                Output Shape              Param #   \n",
      "=================================================================\n",
      " conv2d (Conv2D)             (None, 30, 30, 64)        1792      \n",
      "                                                                 \n",
      " conv2d_1 (Conv2D)           (None, 28, 28, 64)        36928     \n",
      "                                                                 \n",
      " max_pooling2d (MaxPooling2D  (None, 14, 14, 64)       0         \n",
      " )                                                               \n",
      "                                                                 \n",
      " dropout (Dropout)           (None, 14, 14, 64)        0         \n",
      "                                                                 \n",
      " conv2d_2 (Conv2D)           (None, 12, 12, 128)       73856     \n",
      "                                                                 \n",
      " conv2d_3 (Conv2D)           (None, 10, 10, 128)       147584    \n",
      "                                                                 \n",
      " max_pooling2d_1 (MaxPooling  (None, 5, 5, 128)        0         \n",
      " 2D)                                                             \n",
      "                                                                 \n",
      " dropout_1 (Dropout)         (None, 5, 5, 128)         0         \n",
      "                                                                 \n",
      " flatten (Flatten)           (None, 3200)              0         \n",
      "                                                                 \n",
      " dense (Dense)               (None, 512)               1638912   \n",
      "                                                                 \n",
      " dropout_2 (Dropout)         (None, 512)               0         \n",
      "                                                                 \n",
      " dense_1 (Dense)             (None, 100)               51300     \n",
      "                                                                 \n",
      "=================================================================\n",
      "Total params: 1,950,372\n",
      "Trainable params: 1,950,372\n",
      "Non-trainable params: 0\n",
      "_________________________________________________________________\n"
     ]
    }
   ],
   "source": [
    "model = Sequential()\n",
    "\n",
    "model.add(Conv2D(64, (3, 3), activation='relu', input_shape=(32, 32, 3)))\n",
    "model.add(Conv2D(64, (3, 3), activation='relu'))\n",
    "model.add(MaxPooling2D(pool_size=(2, 2)))\n",
    "model.add(Dropout(0.25))\n",
    "\n",
    "model.add(Conv2D(128, (3, 3), activation='relu'))\n",
    "model.add(Conv2D(128, (3, 3), activation='relu'))\n",
    "model.add(MaxPooling2D(pool_size=(2, 2)))\n",
    "model.add(Dropout(0.25))\n",
    "\n",
    "model.add(Flatten())\n",
    "model.add(Dense(512, activation='relu'))\n",
    "model.add(Dropout(0.5))\n",
    "model.add(Dense(100, activation='softmax'))\n",
    "\n",
    "model.compile(loss='categorical_crossentropy', optimizer='adam', metrics=['accuracy'])\n",
    "model.summary()"
   ]
  },
  {
   "cell_type": "code",
   "execution_count": 7,
   "metadata": {},
   "outputs": [
    {
     "name": "stdout",
     "output_type": "stream",
     "text": [
      "Epoch 1/50\n",
      "313/313 [==============================] - 129s 410ms/step - loss: 4.1134 - accuracy: 0.0688 - val_loss: 3.5931 - val_accuracy: 0.1554\n",
      "Epoch 2/50\n",
      "313/313 [==============================] - 127s 407ms/step - loss: 3.5340 - accuracy: 0.1591 - val_loss: 3.2643 - val_accuracy: 0.2159\n",
      "Epoch 3/50\n",
      "313/313 [==============================] - 116s 369ms/step - loss: 3.2229 - accuracy: 0.2178 - val_loss: 3.0145 - val_accuracy: 0.2697\n",
      "Epoch 4/50\n",
      "313/313 [==============================] - 118s 379ms/step - loss: 3.0223 - accuracy: 0.2563 - val_loss: 2.8317 - val_accuracy: 0.2999\n",
      "Epoch 5/50\n",
      "313/313 [==============================] - 128s 410ms/step - loss: 2.8679 - accuracy: 0.2815 - val_loss: 2.6945 - val_accuracy: 0.3308\n",
      "Epoch 6/50\n",
      "313/313 [==============================] - 122s 389ms/step - loss: 2.7221 - accuracy: 0.3131 - val_loss: 2.5663 - val_accuracy: 0.3557\n",
      "Epoch 7/50\n",
      "313/313 [==============================] - 152s 487ms/step - loss: 2.6078 - accuracy: 0.3349 - val_loss: 2.4965 - val_accuracy: 0.3694\n",
      "Epoch 8/50\n",
      "313/313 [==============================] - 140s 447ms/step - loss: 2.5066 - accuracy: 0.3548 - val_loss: 2.4406 - val_accuracy: 0.3780\n",
      "Epoch 9/50\n",
      "313/313 [==============================] - 132s 421ms/step - loss: 2.4224 - accuracy: 0.3741 - val_loss: 2.4018 - val_accuracy: 0.3842\n",
      "Epoch 10/50\n",
      "313/313 [==============================] - 138s 441ms/step - loss: 2.3371 - accuracy: 0.3893 - val_loss: 2.3720 - val_accuracy: 0.3972\n",
      "Epoch 11/50\n",
      "313/313 [==============================] - 140s 449ms/step - loss: 2.2641 - accuracy: 0.4050 - val_loss: 2.3861 - val_accuracy: 0.3947\n",
      "Epoch 12/50\n",
      "313/313 [==============================] - 136s 434ms/step - loss: 2.2019 - accuracy: 0.4146 - val_loss: 2.3290 - val_accuracy: 0.4018\n",
      "Epoch 13/50\n",
      "313/313 [==============================] - 141s 449ms/step - loss: 2.1388 - accuracy: 0.4286 - val_loss: 2.2731 - val_accuracy: 0.4134\n",
      "Epoch 14/50\n",
      "313/313 [==============================] - 131s 420ms/step - loss: 2.0924 - accuracy: 0.4393 - val_loss: 2.2252 - val_accuracy: 0.4340\n",
      "Epoch 15/50\n",
      "313/313 [==============================] - 131s 419ms/step - loss: 2.0255 - accuracy: 0.4509 - val_loss: 2.1946 - val_accuracy: 0.4368\n",
      "Epoch 16/50\n",
      "313/313 [==============================] - 132s 422ms/step - loss: 1.9845 - accuracy: 0.4642 - val_loss: 2.1965 - val_accuracy: 0.4375\n",
      "Epoch 17/50\n",
      "313/313 [==============================] - 132s 421ms/step - loss: 1.9329 - accuracy: 0.4727 - val_loss: 2.1706 - val_accuracy: 0.4388\n",
      "Epoch 18/50\n",
      "313/313 [==============================] - 126s 403ms/step - loss: 1.8903 - accuracy: 0.4819 - val_loss: 2.1847 - val_accuracy: 0.4379\n",
      "Epoch 19/50\n",
      "313/313 [==============================] - 131s 419ms/step - loss: 1.8554 - accuracy: 0.4859 - val_loss: 2.1585 - val_accuracy: 0.4393\n",
      "Epoch 20/50\n",
      "313/313 [==============================] - 133s 426ms/step - loss: 1.8048 - accuracy: 0.5001 - val_loss: 2.1535 - val_accuracy: 0.4542\n",
      "Epoch 21/50\n",
      "313/313 [==============================] - 130s 414ms/step - loss: 1.7742 - accuracy: 0.5075 - val_loss: 2.1706 - val_accuracy: 0.4507\n",
      "Epoch 22/50\n",
      "313/313 [==============================] - 128s 409ms/step - loss: 1.7460 - accuracy: 0.5134 - val_loss: 2.1799 - val_accuracy: 0.4410\n",
      "Epoch 23/50\n",
      "313/313 [==============================] - 132s 423ms/step - loss: 1.7042 - accuracy: 0.5228 - val_loss: 2.2201 - val_accuracy: 0.4414\n",
      "Epoch 24/50\n",
      "313/313 [==============================] - 132s 423ms/step - loss: 1.6853 - accuracy: 0.5254 - val_loss: 2.1809 - val_accuracy: 0.4518\n",
      "Epoch 25/50\n",
      "313/313 [==============================] - 129s 413ms/step - loss: 1.6504 - accuracy: 0.5319 - val_loss: 2.2057 - val_accuracy: 0.4483\n",
      "Epoch 26/50\n",
      "313/313 [==============================] - 139s 444ms/step - loss: 1.6224 - accuracy: 0.5413 - val_loss: 2.1502 - val_accuracy: 0.4527\n",
      "Epoch 27/50\n",
      "313/313 [==============================] - 137s 437ms/step - loss: 1.5857 - accuracy: 0.5500 - val_loss: 2.2086 - val_accuracy: 0.4480\n",
      "Epoch 28/50\n",
      "313/313 [==============================] - 140s 447ms/step - loss: 1.5561 - accuracy: 0.5545 - val_loss: 2.2067 - val_accuracy: 0.4487\n",
      "Epoch 29/50\n",
      "313/313 [==============================] - 134s 429ms/step - loss: 1.5416 - accuracy: 0.5594 - val_loss: 2.1586 - val_accuracy: 0.4549\n",
      "Epoch 30/50\n",
      "313/313 [==============================] - 132s 423ms/step - loss: 1.5144 - accuracy: 0.5666 - val_loss: 2.2080 - val_accuracy: 0.4464\n",
      "Epoch 31/50\n",
      "313/313 [==============================] - 124s 398ms/step - loss: 1.4992 - accuracy: 0.5716 - val_loss: 2.1863 - val_accuracy: 0.4559\n",
      "Epoch 32/50\n",
      "313/313 [==============================] - 129s 414ms/step - loss: 1.4638 - accuracy: 0.5752 - val_loss: 2.2010 - val_accuracy: 0.4486\n",
      "Epoch 33/50\n",
      "313/313 [==============================] - 129s 411ms/step - loss: 1.4485 - accuracy: 0.5836 - val_loss: 2.2420 - val_accuracy: 0.4391\n",
      "Epoch 34/50\n",
      "313/313 [==============================] - 126s 402ms/step - loss: 1.4379 - accuracy: 0.5846 - val_loss: 2.1799 - val_accuracy: 0.4542\n",
      "Epoch 35/50\n",
      "313/313 [==============================] - 122s 390ms/step - loss: 1.4173 - accuracy: 0.5882 - val_loss: 2.2150 - val_accuracy: 0.4561\n",
      "Epoch 36/50\n",
      "313/313 [==============================] - 121s 385ms/step - loss: 1.3995 - accuracy: 0.5964 - val_loss: 2.2066 - val_accuracy: 0.4487\n",
      "Epoch 37/50\n",
      "313/313 [==============================] - 121s 388ms/step - loss: 1.3871 - accuracy: 0.5968 - val_loss: 2.2228 - val_accuracy: 0.4559\n",
      "Epoch 38/50\n",
      "313/313 [==============================] - 121s 385ms/step - loss: 1.3463 - accuracy: 0.6045 - val_loss: 2.2415 - val_accuracy: 0.4546\n",
      "Epoch 39/50\n",
      "313/313 [==============================] - 119s 380ms/step - loss: 1.3301 - accuracy: 0.6105 - val_loss: 2.2123 - val_accuracy: 0.4487\n",
      "Epoch 40/50\n",
      "313/313 [==============================] - 119s 380ms/step - loss: 1.3215 - accuracy: 0.6125 - val_loss: 2.1891 - val_accuracy: 0.4634\n",
      "Epoch 41/50\n",
      "313/313 [==============================] - 117s 372ms/step - loss: 1.3073 - accuracy: 0.6206 - val_loss: 2.2257 - val_accuracy: 0.4548\n",
      "Epoch 42/50\n",
      "313/313 [==============================] - 120s 382ms/step - loss: 1.2734 - accuracy: 0.6234 - val_loss: 2.2267 - val_accuracy: 0.4554\n",
      "Epoch 43/50\n",
      "313/313 [==============================] - 147s 470ms/step - loss: 1.2791 - accuracy: 0.6235 - val_loss: 2.2190 - val_accuracy: 0.4538\n",
      "Epoch 44/50\n",
      "313/313 [==============================] - 124s 396ms/step - loss: 1.2486 - accuracy: 0.6312 - val_loss: 2.2368 - val_accuracy: 0.4547\n",
      "Epoch 45/50\n",
      "313/313 [==============================] - 123s 394ms/step - loss: 1.2364 - accuracy: 0.6329 - val_loss: 2.2405 - val_accuracy: 0.4563\n",
      "Epoch 46/50\n",
      "313/313 [==============================] - 126s 402ms/step - loss: 1.2251 - accuracy: 0.6396 - val_loss: 2.2502 - val_accuracy: 0.4597\n",
      "Epoch 47/50\n",
      "313/313 [==============================] - 116s 370ms/step - loss: 1.2040 - accuracy: 0.6411 - val_loss: 2.3139 - val_accuracy: 0.4508\n",
      "Epoch 48/50\n",
      "313/313 [==============================] - 115s 369ms/step - loss: 1.2090 - accuracy: 0.6423 - val_loss: 2.2852 - val_accuracy: 0.4590\n",
      "Epoch 49/50\n",
      "313/313 [==============================] - 116s 370ms/step - loss: 1.1830 - accuracy: 0.6483 - val_loss: 2.2716 - val_accuracy: 0.4573\n",
      "Epoch 50/50\n",
      "313/313 [==============================] - 122s 389ms/step - loss: 1.1673 - accuracy: 0.6546 - val_loss: 2.2599 - val_accuracy: 0.4598\n"
     ]
    }
   ],
   "source": [
    "history = model.fit(x_train, y_train, verbose=1,epochs=50, batch_size=128, validation_split=0.2, shuffle=True)"
   ]
  },
  {
   "cell_type": "code",
   "execution_count": 9,
   "metadata": {},
   "outputs": [
    {
     "data": {
      "text/plain": [
       "[<matplotlib.lines.Line2D at 0x22ef6227ca0>]"
      ]
     },
     "execution_count": 9,
     "metadata": {},
     "output_type": "execute_result"
    },
    {
     "data": {
      "image/png": "[encoded data removed]",
      "text/plain": [
       "<Figure size 640x480 with 1 Axes>"
      ]
     },
     "metadata": {},
     "output_type": "display_data"
    }
   ],
   "source": [
    "import matplotlib.pyplot as plt\n",
    "plt.plot(history.history['accuracy'])\n",
    "plt.plot(history.history['val_accuracy'])"
   ]
  },
  {
   "cell_type": "code",
   "execution_count": 11,
   "metadata": {},
   "outputs": [
    {
     "name": "stdout",
     "output_type": "stream",
     "text": [
      "313/313 [==============================] - 5s 16ms/step - loss: 2.2197 - accuracy: 0.4560\n",
      "Test Accuracy: 45.60%\n"
     ]
    }
   ],
   "source": [
    "accuracy = model.evaluate(x_test, y_test)[1]\n",
    "print(f'Test Accuracy: {accuracy * 100:.2f}%')"
   ]
  }
 ],
 "metadata": {
  "kernelspec": {
   "display_name": "Python 3 (ipykernel)",
   "language": "python",
   "name": "python3"
  },
  "language_info": {
   "codemirror_mode": {
    "name": "ipython",
    "version": 3
   },
   "file_extension": ".py",
   "mimetype": "text/x-python",
   "name": "python",
   "nbconvert_exporter": "python",
   "pygments_lexer": "ipython3",
   "version": "3.10.8"
  }
 },
 "nbformat": 4,
 "nbformat_minor": 2
}
